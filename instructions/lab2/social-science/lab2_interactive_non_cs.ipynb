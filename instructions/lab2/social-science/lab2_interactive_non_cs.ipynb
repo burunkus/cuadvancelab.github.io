{
  "nbformat": 4,
  "nbformat_minor": 0,
  "metadata": {
    "colab": {
      "provenance": [],
      "collapsed_sections": [],
      "toc_visible": true
    },
    "kernelspec": {
      "name": "python3",
      "display_name": "Python 3"
    },
    "language_info": {
      "name": "python"
    },
    "accelerator": "GPU",
    "gpuClass": "standard"
  },
  "cells": [
    {
      "cell_type": "markdown",
      "source": [
        "# Lab 2 AI for Multimodal Cyberharassment Detection\n",
        "\n"
      ],
      "metadata": {
        "id": "zCxQyK2g_2Jj"
      }
    },
    {
      "cell_type": "markdown",
      "source": [
        "With previous lab learning, you should have some knowledge about how to develop an AI model to detect cyberbullying lauguage. In this lab, we will keep learning how AI can be developed to detect cyberbullying. We will use a publicly available test dataset of cyberbullying images, and deploy an pre-trained AI model to automatically detect cyberbullying images. \n",
        "Approach towards analysing the cyber bullying in images in a dataset, there are three steps: \n",
        "1. Understand and identify the factors related to cyberbullying in images. \n",
        "2. Deploy the pre-trained AI model.\n",
        "3. Examine the AI to detect cyberbulling images."
      ],
      "metadata": {
        "id": "t9ZCA9FpFasW"
      }
    },
    {
      "cell_type": "markdown",
      "source": [
        "## Download the pre-trained model, test dataset and the dependencies"
      ],
      "metadata": {
        "id": "lR_dMOJ3HJ21"
      }
    },
    {
      "cell_type": "markdown",
      "source": [
        "First, we need to download the pre-trained model and the test dataset used in the lab. Just hit the 'play' button run the code below."
      ],
      "metadata": {
        "id": "NuE3371lG783"
      }
    },
    {
      "cell_type": "code",
      "source": [
        " # download the model and dataset\n",
        "!wget -O auxes_17.pt https://buffalo.box.com/shared/static/cjk39hq7prpwj2rkqz6lc2jr6q2h5shy.pt\n",
        "!wget -O cyberbullying_data.zip https://buffalo.box.com/shared/static/bxfnnz2ln9gmzoojxs4nuafzhqildnvi.zip"
      ],
      "metadata": {
        "id": "Er3ZmAJoRZcL"
      },
      "execution_count": null,
      "outputs": []
    },
    {
      "cell_type": "code",
      "source": [
        "# unzip the test data\n",
        "%%capture\n",
        "!unzip \"/content/cyberbullying_data.zip\" -d \"/content\""
      ],
      "metadata": {
        "id": "ybkEIhE6B4Kx"
      },
      "execution_count": null,
      "outputs": []
    },
    {
      "cell_type": "markdown",
      "source": [
        "Let's import all our softwares dependencies in our iPython notebook"
      ],
      "metadata": {
        "id": "Ytz-y70fHfqd"
      }
    },
    {
      "cell_type": "code",
      "source": [
        "import torch\n",
        "import torchvision\n",
        "import torch.nn as nn\n",
        "import torch.nn.functional as F\n",
        "from torch import optim\n",
        "import torch.utils.data as data_utils\n",
        "import torchvision.transforms as transforms\n",
        "from torchvision import models\n",
        "from torch.optim.lr_scheduler import ReduceLROnPlateau\n",
        "from torch.utils.data import Dataset, DataLoader"
      ],
      "metadata": {
        "id": "-Co9BU-xoIBr"
      },
      "execution_count": null,
      "outputs": []
    },
    {
      "cell_type": "code",
      "source": [
        "import pickle\n",
        "import gzip\n",
        "import sys\n",
        "import time\n",
        "import numpy as np\n",
        "import math\n",
        "import os\n",
        "import random\n",
        "from skimage import io, transform"
      ],
      "metadata": {
        "id": "KehdlyFsoIPQ"
      },
      "execution_count": null,
      "outputs": []
    },
    {
      "cell_type": "markdown",
      "source": [
        "## Load datasets"
      ],
      "metadata": {
        "id": "leCI51YW7UfE"
      }
    },
    {
      "cell_type": "markdown",
      "source": [
        "Now, let's run the subsequent codes to load your data from a predefined\n",
        "class"
      ],
      "metadata": {
        "id": "iH_eewicHqlb"
      }
    },
    {
      "cell_type": "code",
      "source": [
        "class PosesDataset(Dataset):\n",
        "\n",
        "  def __init__(self, root_dir, poses_dir, auxes_dir):\n",
        "\n",
        "    self.samples = []\n",
        "    self.root_dir = root_dir\n",
        "    self.poses_dir = poses_dir\n",
        "    self.auxes_dir = auxes_dir\n",
        "\n",
        "    for _, _, cb_images in os.walk(self.root_dir + 'cyberbullying'): break\n",
        "    for _, _, non_cb_images in os.walk(self.root_dir + 'non_cyberbullying'): break\n",
        "    for _, _, cb_poses in os.walk(self.poses_dir + 'cyberbullying'): break\n",
        "    for _, _, non_cb_poses in os.walk(self.poses_dir + 'non_cyberbullying'): break\n",
        "\n",
        "    for i in cb_images:\n",
        "      self.samples.append((self.root_dir + 'cyberbullying/' + i, self.poses_dir + 'cyberbullying/' + i, self.auxes_dir + 'cyberbullying/' + i, 1))  \n",
        "\n",
        "    for i in non_cb_images:\n",
        "      self.samples.append((self.root_dir + 'non_cyberbullying/' + i, self.poses_dir + 'non_cyberbullying/' + i, self.auxes_dir + 'non_cyberbullying/' + i, 0))\n",
        "\n",
        "\n",
        "  def __len__(self):\n",
        "    return len(self.samples)\n",
        "\n",
        "  def __getitem__(self, idx):\n",
        "    if torch.is_tensor(idx):\n",
        "      idx = idx.tolist()\n",
        "\n",
        "    img_name, pose_name, aux_name, label = self.samples[idx]\n",
        "    image = io.imread(img_name)\n",
        "\n",
        "    aux = pickle.load(open(aux_name + '.p', 'rb'))\n",
        "    aux = torch.tensor(aux)\n",
        "    \n",
        "    # drop the alpha channel for some images\n",
        "    if image.shape == (224, 224): \n",
        "      # handle grayscale images   \n",
        "      image = np.stack([image, image, image], axis=2)\n",
        "\n",
        "    if image.shape == (224, 224, 4):\n",
        "      image = image[:,:,:3]\n",
        "\n",
        "    image = image.transpose((2, 0, 1)) # C X H X W\n",
        "    pose = io.imread(pose_name)\n",
        "    if pose.shape != (224, 224):\n",
        "      pose = pose[:,:,0]\n",
        "    pose = np.expand_dims(pose, axis = 0)\n",
        "    image = np.concatenate((image, pose), axis = 0)\n",
        "    sample = {'image': torch.from_numpy(image.copy()).float() / 255, 'aux': aux, 'label': label}\n",
        "    return sample"
      ],
      "metadata": {
        "id": "CROpOz3boJup"
      },
      "execution_count": null,
      "outputs": []
    },
    {
      "cell_type": "code",
      "source": [
        "valid_set = PosesDataset('cyberbullying_data/cyberbullying_data_splits_clean/test/', 'cyberbullying_data/cyberbullying_poses/test/', 'cyberbullying_data/cyberbullying_data_auxes/test/')\n",
        "valid_loader = torch.utils.data.DataLoader(valid_set, batch_size = 1, shuffle = True)"
      ],
      "metadata": {
        "id": "GyJIDz2-oMLl"
      },
      "execution_count": null,
      "outputs": []
    },
    {
      "cell_type": "markdown",
      "source": [
        "## How to identify cyberbullying in images"
      ],
      "metadata": {
        "id": "2OX8Si28urch"
      }
    },
    {
      "cell_type": "markdown",
      "source": [
        "**5 FACTORS to measurement cyberbulling in images**\n",
        "- Body-pose\n",
        "- Facial Emotion\n",
        "- Object\n",
        "- Gesture\n",
        "- Social Factors\n",
        "\n",
        "<img src=\"https://buffalo.box.com/shared/static/6lo2kzsbbuu4zrt4g4co2k40kkuwm90a.png\" alt=\"drawing\" width=\"500\"/>"
      ],
      "metadata": {
        "id": "alF46qymwqjX"
      }
    },
    {
      "cell_type": "markdown",
      "source": [
        "\n",
        "\n",
        "- - - -\n",
        "**<font color='red'>QUESTION 1:</font>\n",
        "Do you think there are any other factors that could help us identify cyberbullying in images?**\n",
        "- - - -"
      ],
      "metadata": {
        "id": "CthXohcl7YPN"
      }
    },
    {
      "cell_type": "markdown",
      "source": [
        "The follow table shows the analysis of cyberbulling factors in images. Higher value of cosine similarity indicates higher correlation.\n",
        "\n",
        "| Factor        | Attribute           |  Cyberbulling  |  Non-cyberbulling  |  Description  |\n",
        "| ------------- |:----------:|:-----:|:-----:| ------------- :|\n",
        "| Body-pose      | Front pose <br> Non-front pose | 0.86<br>0.50 | 0.53 <br> 0.84 | Pose of subject in image is towards the viewer |\n",
        "| Emotion      | Joy <br> Sorrow <br> Anger <br> Surprise | 0.34<br>0.02<br>0.09<br>0.07 | 0.25<br>0.02<br>0.04<br>0.05 | Facial emotion of subject in image|\n",
        "| Gesture      | Hand gesture <br> No hand gesture | 0.71<br>0.70 | 0.32 <br> 0.94 | Hand gesture made by subject in imager |\n",
        "| Object      | Threatening object <br> No threatening object | 0.33<br>0.94 | 0.06 <br> 0.99 | Threatening object present in image |\n",
        "| Social      | Anti-LGBT <br> Anti-black racism | 0.45<br>0.03 | 0.06 <br> 0.00 | Anti-LGBT symbols and anti-black racism in image |"
      ],
      "metadata": {
        "id": "eZlkxZuv3WN3"
      }
    },
    {
      "cell_type": "markdown",
      "source": [
        "\n",
        "\n",
        "- - - -\n",
        "**<font color='red'>QUESTION 2:</font>\n",
        "What can you observe from the above table?**\n",
        "- - - -"
      ],
      "metadata": {
        "id": "kAKtA3rj7c_s"
      }
    },
    {
      "cell_type": "markdown",
      "source": [
        "## Load our pre-trained AI model"
      ],
      "metadata": {
        "id": "sA_fj0um-RyJ"
      }
    },
    {
      "cell_type": "markdown",
      "source": [
        "The AI model prediction process looks like the following figure.\n",
        "<img src=\"https://buffalo.box.com/shared/static/52w3axrxv2avs3ad3cwle8lc8b79m0jv.png\" alt=\"drawing\" width=\"700\"/>\n",
        "\n",
        "In our AI model, we combine the low level image features with the cyberbulling factors identified before. We combine these features using feature fusion techniques.\n",
        "\n",
        "We use the `VGG16` pre-trained model for image features `CNN` and use a multi-layer perceptron model `MLP` for the factors related features, and combine the feature vectors from both these models using late fusion."
      ],
      "metadata": {
        "id": "Es0wlW55AA7s"
      }
    },
    {
      "cell_type": "markdown",
      "source": [
        "![Blank diagram-2.jpeg](data:image/jpeg;base64,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)"
      ],
      "metadata": {
        "id": "ORF-VsmVF41k"
      }
    },
    {
      "cell_type": "markdown",
      "source": [
        "\n",
        "\n",
        "- - - -\n",
        "**<font color='red'>QUESTION 3:</font>\n",
        "Do you remember the AI model used when detecting cyberbullying text (as the figure above)? What are the differences between these two models?**\n",
        "- - - -"
      ],
      "metadata": {
        "id": "B2ODneL4FQCw"
      }
    },
    {
      "cell_type": "code",
      "source": [
        "# load vgg16 pre-trained model\n",
        "orig = models.vgg16(pretrained = True)"
      ],
      "metadata": {
        "id": "qSoMmCwNIJ4R"
      },
      "execution_count": null,
      "outputs": []
    },
    {
      "cell_type": "code",
      "source": [
        "class CB(nn.Module):\n",
        "  def __init__(self):\n",
        "    super(CB, self).__init__()\n",
        "    self.conv1 = nn.Conv2d(4, 3, 1)\n",
        "    self.f = nn.Sequential(*list(orig.features.children()))\n",
        "    self.avgpool = nn.AdaptiveAvgPool2d((7, 7))\n",
        "    self.aux_classifier = nn.Sequential(\n",
        "      nn.Linear(25097, 1024),\n",
        "      nn.ReLU(),\n",
        "      nn.Linear(1024, 25088),\n",
        "      nn.ReLU()  \n",
        "    )   \n",
        "    self.classifier = nn.Sequential(*list(orig.classifier.children()))\n",
        "    self.classifier[-1] = nn.Linear(4096, 2)\n",
        "    self.sig = nn.Sigmoid()\n",
        " \n",
        "  def forward(self, x, aux):\n",
        "    x = self.conv1(x) \n",
        "    x = self.f(x)\n",
        "    x = self.avgpool(x)\n",
        "    x = torch.flatten(x, 1) \n",
        "    x = torch.cat((x, aux), dim = 1)\n",
        "    x = self.aux_classifier(x)\n",
        "    x = self.classifier(x)\n",
        "    x = self.sig(x) \n",
        "\n",
        "\n",
        "    return x\n"
      ],
      "metadata": {
        "id": "hH7zjEWzoV_6"
      },
      "execution_count": null,
      "outputs": []
    },
    {
      "cell_type": "markdown",
      "source": [
        "Let's use GPU to deploy our AI if it is available."
      ],
      "metadata": {
        "id": "B0uFHmzNH6P1"
      }
    },
    {
      "cell_type": "code",
      "source": [
        "device = torch.device('cuda:0' if torch.cuda.is_available() else 'cpu')"
      ],
      "metadata": {
        "id": "LB-maxBGoOms"
      },
      "execution_count": null,
      "outputs": []
    },
    {
      "cell_type": "markdown",
      "source": [
        "Pass the pre-trained checkpoints to the VGG model so that you can have our pre-trained model"
      ],
      "metadata": {
        "id": "YijTxNzIIgeO"
      }
    },
    {
      "cell_type": "code",
      "source": [
        "model = torch.load(\"auxes_17.pt\")\n",
        "model.to(device)\n",
        "\n",
        "criterion = nn.CrossEntropyLoss()\n",
        "\n",
        "running_loss = []\n",
        "correct, incorrect, total = 0., 0., 0."
      ],
      "metadata": {
        "id": "PJyl75SEoYAg"
      },
      "execution_count": null,
      "outputs": []
    },
    {
      "cell_type": "markdown",
      "source": [
        "## Generate the detection resuls for validation data"
      ],
      "metadata": {
        "id": "OquLZfQh7sfr"
      }
    },
    {
      "cell_type": "markdown",
      "source": [
        "Now, it's time to evaulate the pre-trained model's capability with our test dataset"
      ],
      "metadata": {
        "id": "SnK2dbcDJCKB"
      }
    },
    {
      "cell_type": "code",
      "source": [
        "with torch.no_grad():\n",
        "  for i_v, data_v in enumerate(valid_loader):\n",
        "    x_valid, y_valid, aux_valid = data_v['image'], data_v['label'], data_v['aux']\n",
        "    x_valid, y_valid, aux_valid = x_valid.to(device), y_valid.to(device, dtype = torch.long), aux_valid.to(device, dtype = torch.float)\n",
        "    y_valid_ = model(x_valid, aux_valid)\n",
        "    running_loss.append(criterion(y_valid_, y_valid))\n",
        "    _, predicted = torch.max(y_valid_.data, 1)\n",
        "    total += y_valid.size(0)\n",
        "    correct += (predicted == y_valid).sum().item() \n",
        "\n",
        "print('Val loss is: {:.3f}'.format((sum(running_loss) / len(running_loss)).item()))\n",
        "print('The accuracy for validation dataset is: {}%'.format((correct / total) * 100))\n"
      ],
      "metadata": {
        "id": "rw8zw7ppoZTI"
      },
      "execution_count": null,
      "outputs": []
    },
    {
      "cell_type": "markdown",
      "source": [
        "### Let's check with one instance"
      ],
      "metadata": {
        "id": "OWI-fdPuBjeL"
      }
    },
    {
      "cell_type": "markdown",
      "source": [
        "To better understand the performance, let us visualize one instance in the dataset"
      ],
      "metadata": {
        "id": "TvZeIcxYJPgu"
      }
    },
    {
      "cell_type": "code",
      "source": [
        "# check how many test data samples we have\n",
        "print(f\"we have {len(valid_set)} samples in our test dataset, you can choose any of them to see the prediction.\")"
      ],
      "metadata": {
        "id": "tCOsFqEmCjhl"
      },
      "execution_count": null,
      "outputs": []
    },
    {
      "cell_type": "markdown",
      "source": [
        "You can simply change the number in next cell to select different sample"
      ],
      "metadata": {
        "id": "CHZyh0FbDzzo"
      }
    },
    {
      "cell_type": "code",
      "source": [
        "#@markdown Select a number to view the image and its label.\n",
        "\n",
        "picture_index  = \"5\" #@param [0,1,2,3,4,5,6,7,8,9,10,11,12,13,14,15,16,17,18,19]\n",
        "index = int(picture_index)\n",
        "instance = valid_set[index]\n",
        "\n",
        "import matplotlib.pyplot as plt\n",
        "import matplotlib.image as mpimg\n",
        "img = mpimg.imread(valid_set.samples[index][0])\n",
        "imgplot = plt.imshow(img)\n",
        "plt.show()\n",
        "annot_label = \"cyberbullying\" if valid_set[index]['label']==1 else \"non-cyberbullying\"\n",
        "print('')\n",
        "print(\"The label of this image is: {}\".format(annot_label))"
      ],
      "metadata": {
        "id": "eE0MVD6RDeZh",
        "cellView": "form"
      },
      "execution_count": null,
      "outputs": []
    },
    {
      "cell_type": "markdown",
      "source": [
        "Run the following code cell to check the AI's prediction"
      ],
      "metadata": {
        "id": "Tt5bRKBbJx27"
      }
    },
    {
      "cell_type": "code",
      "source": [
        "# from numpy.ma.core import outerproduct\n",
        "# check if the prediction is correct\n",
        "instance_image, instance_label, instance_aux = instance['image'].to(device), torch.tensor(instance['label']).to(device, dtype = torch.long), instance['aux'].to(device, dtype = torch.float)\n",
        "\n",
        "output = model(instance_image.unsqueeze(0), instance_aux.unsqueeze(0)).data\n",
        "_, prediction = torch.max(output.data, 1)\n",
        "predict_label = \"cyberbullying\" if prediction.item()==1 else \"non-cyberbullying\"\n",
        "comparision = \"correct\" if prediction==instance_label else \"not correct\"\n",
        "\n",
        "print(\"The AI prediction for this image is: {}, which is {}!\".format(annot_label, comparision))"
      ],
      "metadata": {
        "colab": {
          "base_uri": "https://localhost:8080/"
        },
        "id": "gfeLR_pB_pb5",
        "outputId": "d0388bcd-beb0-4da8-8185-8efab3f7be9b"
      },
      "execution_count": null,
      "outputs": [
        {
          "output_type": "stream",
          "name": "stdout",
          "text": [
            "The AI prediction for this image is: cyberbullying, which is correct!\n"
          ]
        }
      ]
    },
    {
      "cell_type": "markdown",
      "source": [
        "\n",
        "\n",
        "- - - -\n",
        "**<font color='red'>QUESTION 4:</font>\n",
        "How well does your model perform, and what is the accuracy of the validation dataset?**\n",
        "- - - -"
      ],
      "metadata": {
        "id": "TzHtzkxGFGOg"
      }
    },
    {
      "cell_type": "markdown",
      "source": [
        "## Discussion"
      ],
      "metadata": {
        "id": "VLTkvWM_E_Id"
      }
    },
    {
      "cell_type": "markdown",
      "source": [
        "\n",
        "\n",
        "- - - -\n",
        "**<font color='red'>QUESTION 5:</font>\n",
        "According to lab1 and lab2, what do think about the AIs? Are there other real-world problems that could benefit from artificial intelligence?**\n",
        "- - - -"
      ],
      "metadata": {
        "id": "-JK5h_ZJFDDH"
      }
    },
    {
      "cell_type": "markdown",
      "source": [
        "**We can add more questions here**"
      ],
      "metadata": {
        "id": "7RXujwj6Mhek"
      }
    },
    {
      "cell_type": "code",
      "source": [],
      "metadata": {
        "id": "RYw2wtTyMiND"
      },
      "execution_count": null,
      "outputs": []
    }
  ]
}